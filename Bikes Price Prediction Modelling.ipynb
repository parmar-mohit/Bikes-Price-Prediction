{
 "cells": [
  {
   "cell_type": "markdown",
   "id": "0fb4b503",
   "metadata": {},
   "source": [
    "# Bikes Price Prediction Modelling"
   ]
  },
  {
   "cell_type": "code",
   "execution_count": 1,
   "id": "24886303",
   "metadata": {
    "scrolled": true
   },
   "outputs": [
    {
     "data": {
      "text/html": [
       "<div>\n",
       "<style scoped>\n",
       "    .dataframe tbody tr th:only-of-type {\n",
       "        vertical-align: middle;\n",
       "    }\n",
       "\n",
       "    .dataframe tbody tr th {\n",
       "        vertical-align: top;\n",
       "    }\n",
       "\n",
       "    .dataframe thead th {\n",
       "        text-align: right;\n",
       "    }\n",
       "</style>\n",
       "<table border=\"1\" class=\"dataframe\">\n",
       "  <thead>\n",
       "    <tr style=\"text-align: right;\">\n",
       "      <th></th>\n",
       "      <th>Company</th>\n",
       "      <th>Country of Origin</th>\n",
       "      <th>Horsepower (hp)</th>\n",
       "      <th>Torque (nm)</th>\n",
       "      <th>Number of Seating</th>\n",
       "      <th>Price (INR)</th>\n",
       "      <th>Year</th>\n",
       "      <th>Looks</th>\n",
       "      <th>Body Type</th>\n",
       "      <th>Number of Cylinders</th>\n",
       "      <th>Electric Vehicle</th>\n",
       "      <th>Engine Displacement</th>\n",
       "      <th>Motor Power</th>\n",
       "    </tr>\n",
       "  </thead>\n",
       "  <tbody>\n",
       "    <tr>\n",
       "      <th>0</th>\n",
       "      <td>Aprilia</td>\n",
       "      <td>Italy</td>\n",
       "      <td>100.0</td>\n",
       "      <td>67.0</td>\n",
       "      <td>2</td>\n",
       "      <td>1099000.0</td>\n",
       "      <td>2021</td>\n",
       "      <td>Sport</td>\n",
       "      <td>naked</td>\n",
       "      <td>2.0</td>\n",
       "      <td>0</td>\n",
       "      <td>659.0</td>\n",
       "      <td>0.0</td>\n",
       "    </tr>\n",
       "    <tr>\n",
       "      <th>1</th>\n",
       "      <td>Aprilia</td>\n",
       "      <td>Italy</td>\n",
       "      <td>100.0</td>\n",
       "      <td>67.0</td>\n",
       "      <td>2</td>\n",
       "      <td>1199000.0</td>\n",
       "      <td>2021</td>\n",
       "      <td>Sport</td>\n",
       "      <td>naked</td>\n",
       "      <td>2.0</td>\n",
       "      <td>0</td>\n",
       "      <td>659.0</td>\n",
       "      <td>0.0</td>\n",
       "    </tr>\n",
       "    <tr>\n",
       "      <th>2</th>\n",
       "      <td>Aprilia</td>\n",
       "      <td>Italy</td>\n",
       "      <td>15.0</td>\n",
       "      <td>12.0</td>\n",
       "      <td>2</td>\n",
       "      <td>449000.0</td>\n",
       "      <td>2022</td>\n",
       "      <td>Sport</td>\n",
       "      <td>racing</td>\n",
       "      <td>1.0</td>\n",
       "      <td>0</td>\n",
       "      <td>124.9</td>\n",
       "      <td>0.0</td>\n",
       "    </tr>\n",
       "    <tr>\n",
       "      <th>3</th>\n",
       "      <td>Aprilia</td>\n",
       "      <td>Italy</td>\n",
       "      <td>95.0</td>\n",
       "      <td>90.0</td>\n",
       "      <td>2</td>\n",
       "      <td>1399000.0</td>\n",
       "      <td>2022</td>\n",
       "      <td>Adventure</td>\n",
       "      <td>naked</td>\n",
       "      <td>2.0</td>\n",
       "      <td>0</td>\n",
       "      <td>896.0</td>\n",
       "      <td>0.0</td>\n",
       "    </tr>\n",
       "    <tr>\n",
       "      <th>4</th>\n",
       "      <td>Aprilia</td>\n",
       "      <td>Italy</td>\n",
       "      <td>175.0</td>\n",
       "      <td>121.0</td>\n",
       "      <td>2</td>\n",
       "      <td>1999000.0</td>\n",
       "      <td>2022</td>\n",
       "      <td>Adventure</td>\n",
       "      <td>naked</td>\n",
       "      <td>2.0</td>\n",
       "      <td>0</td>\n",
       "      <td>1077.0</td>\n",
       "      <td>0.0</td>\n",
       "    </tr>\n",
       "  </tbody>\n",
       "</table>\n",
       "</div>"
      ],
      "text/plain": [
       "   Company Country of Origin  Horsepower (hp)  Torque (nm)  Number of Seating  \\\n",
       "0  Aprilia             Italy            100.0         67.0                  2   \n",
       "1  Aprilia             Italy            100.0         67.0                  2   \n",
       "2  Aprilia             Italy             15.0         12.0                  2   \n",
       "3  Aprilia             Italy             95.0         90.0                  2   \n",
       "4  Aprilia             Italy            175.0        121.0                  2   \n",
       "\n",
       "   Price (INR)  Year      Looks Body Type  Number of Cylinders  \\\n",
       "0    1099000.0  2021      Sport     naked                  2.0   \n",
       "1    1199000.0  2021      Sport     naked                  2.0   \n",
       "2     449000.0  2022      Sport    racing                  1.0   \n",
       "3    1399000.0  2022  Adventure     naked                  2.0   \n",
       "4    1999000.0  2022  Adventure     naked                  2.0   \n",
       "\n",
       "   Electric Vehicle  Engine Displacement  Motor Power  \n",
       "0                 0                659.0          0.0  \n",
       "1                 0                659.0          0.0  \n",
       "2                 0                124.9          0.0  \n",
       "3                 0                896.0          0.0  \n",
       "4                 0               1077.0          0.0  "
      ]
     },
     "execution_count": 1,
     "metadata": {},
     "output_type": "execute_result"
    }
   ],
   "source": [
    "# Importing necessary libraries\n",
    "import pandas as pd\n",
    "import numpy as np\n",
    "import pickle\n",
    "from sklearn.model_selection import train_test_split\n",
    "from sklearn.metrics import mean_absolute_error\n",
    "from sklearn.tree import DecisionTreeRegressor\n",
    "from sklearn.ensemble import RandomForestRegressor\n",
    "from sklearn.preprocessing import OneHotEncoder\n",
    "from sklearn.model_selection import cross_val_score\n",
    "from xgboost import XGBRegressor\n",
    "\n",
    "# importing data\n",
    "df = pd.read_csv(\"bikes_data_cleaned.csv\")\n",
    "df.head()"
   ]
  },
  {
   "cell_type": "code",
   "execution_count": 2,
   "id": "7f562027",
   "metadata": {},
   "outputs": [],
   "source": [
    "# Sepearting X and Y\n",
    "X = df.drop(\"Price (INR)\",axis=1)\n",
    "Y = df[\"Price (INR)\"]"
   ]
  },
  {
   "cell_type": "code",
   "execution_count": 3,
   "id": "5d9615d8",
   "metadata": {},
   "outputs": [],
   "source": [
    "# Creating List for Numerical and Categorical Variables\n",
    "numerical = [\"Horsepower (hp)\",\"Torque (nm)\",\"Number of Seating\",\"Year\",\"Number of Cylinders\",\"Electric Vehicle\",\"Engine Displacement\",\"Motor Power\"]\n",
    "categorical = [\"Company\",\"Country of Origin\",\"Looks\",\"Body Type\"]"
   ]
  },
  {
   "cell_type": "markdown",
   "id": "b8d7b199",
   "metadata": {},
   "source": [
    "Lets first define a function that can gives us mean absolute error of model which can help us in deciding strategies while cleaning data"
   ]
  },
  {
   "cell_type": "code",
   "execution_count": 4,
   "id": "8faf36e8",
   "metadata": {},
   "outputs": [],
   "source": [
    "def getMeanAbsoluteError(X,Y):\n",
    "    model = DecisionTreeRegressor()\n",
    "    scores = -1 * cross_val_score(model,X,Y,cv=5,scoring=\"neg_mean_absolute_error\")\n",
    "    return scores.mean()"
   ]
  },
  {
   "cell_type": "code",
   "execution_count": 5,
   "id": "ec51828b",
   "metadata": {},
   "outputs": [
    {
     "data": {
      "text/plain": [
       "Company                0\n",
       "Country of Origin      0\n",
       "Horsepower (hp)        0\n",
       "Torque (nm)            0\n",
       "Number of Seating      0\n",
       "Price (INR)            0\n",
       "Year                   0\n",
       "Looks                  0\n",
       "Body Type              0\n",
       "Number of Cylinders    0\n",
       "Electric Vehicle       0\n",
       "Engine Displacement    0\n",
       "Motor Power            0\n",
       "dtype: int64"
      ]
     },
     "execution_count": 5,
     "metadata": {},
     "output_type": "execute_result"
    }
   ],
   "source": [
    "# Lets look at missing values from dataset\n",
    "df.isnull().sum()"
   ]
  },
  {
   "cell_type": "markdown",
   "id": "21357ea2",
   "metadata": {},
   "source": [
    "We can see that dataset does not have missing value so we can start building our model\n",
    "\n",
    "First we will create our model with only numerical Data and the results that we get will be our baseline score"
   ]
  },
  {
   "cell_type": "markdown",
   "id": "1f569d57",
   "metadata": {},
   "source": [
    "### Model with only numerical data"
   ]
  },
  {
   "cell_type": "code",
   "execution_count": 6,
   "id": "c9de4ecb",
   "metadata": {},
   "outputs": [
    {
     "name": "stdout",
     "output_type": "stream",
     "text": [
      "Error(Only Numerical Data) :  556846.5893472221\n"
     ]
    }
   ],
   "source": [
    "print(\"Error(Only Numerical Data) : \",getMeanAbsoluteError(X[numerical],Y))"
   ]
  },
  {
   "cell_type": "markdown",
   "id": "736c501c",
   "metadata": {},
   "source": [
    "Now lets build a model with categorical variables\n",
    "\n",
    "As all the categorical variables are nominal i.e they do not have any order in them we will use One Hot Encoding to build model with categorical Variables"
   ]
  },
  {
   "cell_type": "markdown",
   "id": "98ee9358",
   "metadata": {},
   "source": [
    "### One Hot Encoding"
   ]
  },
  {
   "cell_type": "code",
   "execution_count": 7,
   "id": "b2306809",
   "metadata": {},
   "outputs": [
    {
     "name": "stdout",
     "output_type": "stream",
     "text": [
      "Error (One Hot Encoding) :  427648.1665277778\n"
     ]
    }
   ],
   "source": [
    "onehot_encoder = OneHotEncoder(handle_unknown=\"ignore\",sparse_output=False)\n",
    "onehot_columns = pd.DataFrame(onehot_encoder.fit_transform(X[categorical]))\n",
    "\n",
    "#Adding Index\n",
    "onehot_columns.index = X.index\n",
    "\n",
    "# Getting Numerical Column\n",
    "numerical_columns = X.drop(categorical,axis=1)\n",
    "\n",
    "# Concatenating DataFrames\n",
    "X_onehot = pd.concat([numerical_columns,onehot_columns],axis=1)\n",
    "\n",
    "X_onehot.columns = X_onehot.columns.astype(str)\n",
    "\n",
    "print(\"Error (One Hot Encoding) : \",getMeanAbsoluteError(X_onehot,Y))"
   ]
  },
  {
   "cell_type": "markdown",
   "id": "cb6918cd",
   "metadata": {},
   "source": [
    "We have brought down MAE, there is a significant decrease and we can say that categorical variables are pretty useful to predict our target variable"
   ]
  },
  {
   "cell_type": "code",
   "execution_count": 8,
   "id": "9eed16c8",
   "metadata": {},
   "outputs": [],
   "source": [
    "# Saving OneHotEncoder for Future use\n",
    "pickle.dump(onehot_encoder,open(\"onehot_encoder.pkl\",\"wb\"))"
   ]
  },
  {
   "cell_type": "markdown",
   "id": "8f8508d6",
   "metadata": {},
   "source": [
    "Now lets see how different model perform compared to each other"
   ]
  },
  {
   "cell_type": "code",
   "execution_count": 9,
   "id": "0c3d53ad",
   "metadata": {},
   "outputs": [
    {
     "name": "stdout",
     "output_type": "stream",
     "text": [
      "MAE DecisionTreeRegressor :  425817.42002777784\n",
      "MAE RandomForestRegressor :  388095.2354327646\n",
      "MAE Gradient Boosting :  438328.7839174533\n"
     ]
    }
   ],
   "source": [
    "def getMeanAbsoluteErrorModel(X,Y,model):\n",
    "    scores = -1 * cross_val_score(model,X,Y,cv=5,scoring=\"neg_mean_absolute_error\")\n",
    "    return scores.mean()\n",
    "\n",
    "print(\"MAE DecisionTreeRegressor : \",getMeanAbsoluteErrorModel(X_onehot,Y,DecisionTreeRegressor()))\n",
    "print(\"MAE RandomForestRegressor : \",getMeanAbsoluteErrorModel(X_onehot,Y,RandomForestRegressor()))\n",
    "print(\"MAE Gradient Boosting : \",getMeanAbsoluteErrorModel(X_onehot,Y,XGBRegressor()))"
   ]
  },
  {
   "cell_type": "markdown",
   "id": "8390d78c",
   "metadata": {},
   "source": [
    "We can see that RandomForestRegressor is giving us best results so we select it as our model now we will perform hyperparameter tuning with cross validation to further improve th performance of our model"
   ]
  },
  {
   "cell_type": "markdown",
   "id": "4c240114",
   "metadata": {},
   "source": [
    "### Hyper Parameter Tuning"
   ]
  },
  {
   "cell_type": "markdown",
   "id": "0a2f5b6c",
   "metadata": {},
   "source": [
    "For RandomForestRegressor model we have to major hyperparameters that we can tune which are n_estimators and max_depth so we will try a number of values for this parameters and see which one gives better performance"
   ]
  },
  {
   "cell_type": "code",
   "execution_count": 10,
   "id": "1ccaab3f",
   "metadata": {},
   "outputs": [
    {
     "name": "stdout",
     "output_type": "stream",
     "text": [
      "MAE with n_estimators:10 and max_depth = 10 : 390513.5837338763\n",
      "MAE with n_estimators:10 and max_depth = 15 : 405063.59659042076\n",
      "MAE with n_estimators:10 and max_depth = 20 : 390035.3839652465\n",
      "MAE with n_estimators:10 and max_depth = 30 : 397214.8989659188\n",
      "MAE with n_estimators:10 and max_depth = 40 : 382976.77052037034\n",
      "MAE with n_estimators:10 and max_depth = 50 : 389019.590862963\n",
      "MAE with n_estimators:50 and max_depth = 10 : 380739.76030642673\n",
      "MAE with n_estimators:50 and max_depth = 15 : 388927.55055963853\n",
      "MAE with n_estimators:50 and max_depth = 20 : 389242.6777442838\n",
      "MAE with n_estimators:50 and max_depth = 30 : 398682.5417178675\n",
      "MAE with n_estimators:50 and max_depth = 40 : 383038.8976762963\n",
      "MAE with n_estimators:50 and max_depth = 50 : 393810.7115766137\n",
      "MAE with n_estimators:100 and max_depth = 10 : 384904.9715824629\n",
      "MAE with n_estimators:100 and max_depth = 15 : 383426.92834813026\n",
      "MAE with n_estimators:100 and max_depth = 20 : 378262.13544619613\n",
      "MAE with n_estimators:100 and max_depth = 30 : 379933.2565030212\n",
      "MAE with n_estimators:100 and max_depth = 40 : 386200.0872506482\n",
      "MAE with n_estimators:100 and max_depth = 50 : 390104.4671787875\n",
      "MAE with n_estimators:250 and max_depth = 10 : 381607.36171100923\n",
      "MAE with n_estimators:250 and max_depth = 15 : 385894.7710510807\n",
      "MAE with n_estimators:250 and max_depth = 20 : 388218.8275633351\n",
      "MAE with n_estimators:250 and max_depth = 30 : 380598.66374007816\n",
      "MAE with n_estimators:250 and max_depth = 40 : 385564.4237455979\n",
      "MAE with n_estimators:250 and max_depth = 50 : 386685.4825756085\n",
      "------------------------------------------------------------------------------\n",
      "Best Performane with n_estimators:100 and max_depth:20 , MAE : 378262.13544619613\n"
     ]
    }
   ],
   "source": [
    "def getError(n_estimators,max_depth,X=X_onehot,Y=Y):\n",
    "    model = RandomForestRegressor(n_estimators = n_estimators,max_depth=max_depth)\n",
    "    scores = -1 * cross_val_score(model,X,Y,cv=5,scoring=\"neg_mean_absolute_error\")\n",
    "    return scores.mean()\n",
    "\n",
    "bestMae = float(\"inf\")\n",
    "parameters = None\n",
    "for estimator in [10,50,100,250]:\n",
    "    for depth in [10,15,20,30,40,50]:\n",
    "        error = getError(n_estimators=estimator,max_depth=depth)\n",
    "        if error < bestMae:\n",
    "            bestMae = error\n",
    "            parameters = (estimator,depth)\n",
    "        print(\"MAE with n_estimators:{} and max_depth = {} : {}\".format(estimator,depth,error))\n",
    "    \n",
    "print(\"------------------------------------------------------------------------------\")\n",
    "print(\"Best Performane with n_estimators:{} and max_depth:{} , MAE : {}\".format(parameters[0],parameters[1],bestMae))"
   ]
  },
  {
   "cell_type": "markdown",
   "id": "ec0d4045",
   "metadata": {},
   "source": [
    "We have got the best performance with parameter n_estimators=100 and max_depth = 20 , so now we will train the model on the entire dataset using theese parameters and save the model"
   ]
  },
  {
   "cell_type": "code",
   "execution_count": 12,
   "id": "40d8992d",
   "metadata": {},
   "outputs": [
    {
     "name": "stdout",
     "output_type": "stream",
     "text": [
      "Model Saved\n"
     ]
    }
   ],
   "source": [
    "my_model = RandomForestRegressor(n_estimators=100,max_depth=20)\n",
    "my_model.fit(X_onehot,Y)\n",
    "pickle.dump(my_model,open(\"model.pkl\",\"wb\"))\n",
    "print(\"Model Saved\")"
   ]
  }
 ],
 "metadata": {
  "kernelspec": {
   "display_name": "Python 3 (ipykernel)",
   "language": "python",
   "name": "python3"
  },
  "language_info": {
   "codemirror_mode": {
    "name": "ipython",
    "version": 3
   },
   "file_extension": ".py",
   "mimetype": "text/x-python",
   "name": "python",
   "nbconvert_exporter": "python",
   "pygments_lexer": "ipython3",
   "version": "3.11.1"
  }
 },
 "nbformat": 4,
 "nbformat_minor": 5
}
